{
 "cells": [
  {
   "cell_type": "markdown",
   "metadata": {},
   "source": [
    "# One Sample T-Test - Lab\n",
    "\n",
    "## Introduction\n",
    "Just as you previously used the t-distribution to provide confidence intervals for estimating the population mean, you can also use similar methods to test whether two populations are different, statistically speaking. To do this, you can use a t-test.\n",
    "\n",
    "## Objectives\n",
    "You will be able to:\n",
    "\n",
    "* Perform a one sample t-test and make conclusions about an experiment based on the results\n",
    "\n",
    "### Exercise 1: \n",
    "\n",
    "Create a function in Python `one_sample_ttest(sample, popmean, alpha)` that will take in sample data (an array of observations), the population mean and the alpha value to calculate and print out the t-statistic, critical t-value, and p-value for the sample and identify if the results are significant or not. The function should also create a visualization using `seaborn` of the distribution to check for normality."
   ]
  },
  {
   "cell_type": "code",
   "execution_count": 32,
   "metadata": {},
   "outputs": [],
   "source": [
    "def one_sample_ttest(sample, popmean, alpha):\n",
    "    import seaborn as sns\n",
    "    import numpy as np\n",
    "    from scipy import stats\n",
    "\n",
    "    # Visualize sample distribution for normality\n",
    "    sns.distplot(sample)\n",
    "    \n",
    "    # Population mean\n",
    "    mu = pop_mean\n",
    "\n",
    "    # Sample mean (x̄) using NumPy mean()\n",
    "    x_bar = sample.mean()\n",
    "    # Sample Standard Deviation (s) using Numpy\n",
    "    s = sample.std()\n",
    "    # Degrees of freedom\n",
    "    N = len(sample)\n",
    "    df = N - 1\n",
    "    # Calculate the critical t-value\n",
    "    t_critical = stats.t.ppf(1-alpha, df)\n",
    "    # Calculate the t-value and p-value \n",
    "    t = (x_bar - mu)/(s/(N)**(1/2))\n",
    "    p = 1 - stats.t.cdf(t, df)\n",
    "    \n",
    "    if (t>t_critical) and (p<0.05):\n",
    "        print (\"We reject the null hypothesis. Results are statistically significant with t-value =\", \n",
    "           round(t, 2), \"and p-value =\", np.round((p), 4))\n",
    "    else:\n",
    "        print (\"We fail to reject the null hypothesis.\")\n",
    "    # return results\n",
    "    return t, t_critical, p, x_bar"
   ]
  },
  {
   "cell_type": "markdown",
   "metadata": {},
   "source": [
    "### Exercise 2:\n",
    "\n",
    "Use the function created in Exercise 1 to answer the following analytical questions.\n",
    "\n",
    "In a Python class, some of the students have taken online courses to improve their Python skills.\n",
    "The scores of a random sample of 20 students who underwent the online-course on a Python test are as follows: \n",
    "\n",
    "     [84.0, 92.4, 74.3, 79.4, 86.7, 75.3, 90.9, 86.1, 81.0, 85.1, \n",
    "      78.7, 73.5, 86.9, 87.4, 82.7, 81.9, 69.9, 77.2, 79.3, 83.3]\n",
    "\n",
    "The mean score of the class before the test is 65. The teacher thinks that the online training has really helped the students and now they should perform better than the class (population) mean. Use this to set your null and alternative hypotheses.\n",
    "\n",
    "1. Test to see if the sample mean is significantly different from 65 at the .05 level. Report the t- and p-values.\n",
    "2. The researcher realizes that she accidentally recorded the score that should have been 80.9 as 90.9. Are these corrected scores significantly different from 65 at the .05 level?\n",
    "\n",
    "Bonus: What is the effect size of the first sample compared to the population? How can you interpret this effect size in relation to your significance test?\n",
    "\n",
    "\n",
    "### Solution:"
   ]
  },
  {
   "cell_type": "code",
   "execution_count": 33,
   "metadata": {
    "scrolled": true
   },
   "outputs": [],
   "source": [
    "import numpy as np\n",
    "sample = np.array([84.0, 92.4, 74.3, 79.4, 86.7, 75.3, 90.9, 86.1, 81.0, 85.1, 78.7, 73.5, 86.9, 87.4, 82.7, 81.9, 69.9, 77.2, 79.3, 83.3])\n",
    "pop_mean = 65\n",
    "alpha = 0.05"
   ]
  },
  {
   "cell_type": "code",
   "execution_count": 34,
   "metadata": {
    "scrolled": true
   },
   "outputs": [
    {
     "name": "stdout",
     "output_type": "stream",
     "text": [
      "We reject the null hypothesis. Results are statistically significant with t-value = 13.02 and p-value = 0.0\n"
     ]
    },
    {
     "data": {
      "text/plain": [
       "(13.01719489334641,\n",
       " 1.729132811521367,\n",
       " 3.239375434560543e-11,\n",
       " 81.80000000000001)"
      ]
     },
     "execution_count": 34,
     "metadata": {},
     "output_type": "execute_result"
    },
    {
     "data": {
      "image/png": "[encoded data removed]",
      "text/plain": [
       "<Figure size 432x288 with 1 Axes>"
      ]
     },
     "metadata": {
      "needs_background": "light"
     },
     "output_type": "display_data"
    }
   ],
   "source": [
    "one_sample_ttest(sample, pop_mean, alpha)\n"
   ]
  },
  {
   "cell_type": "code",
   "execution_count": 35,
   "metadata": {},
   "outputs": [],
   "source": [
    "sample2 = np.array([84.0, 92.4, 74.3, 79.4, 86.7, 75.3, 80.9, 86.1, 81.0, 85.1, 78.7, 73.5, 86.9, 87.4, 82.7, 81.9, 69.9, 77.2, 79.3, 83.3])"
   ]
  },
  {
   "cell_type": "code",
   "execution_count": 36,
   "metadata": {},
   "outputs": [
    {
     "name": "stdout",
     "output_type": "stream",
     "text": [
      "We reject the null hypothesis. Results are statistically significant with t-value = 13.55 and p-value = 0.0\n"
     ]
    },
    {
     "data": {
      "text/plain": [
       "(13.54505678612804,\n",
       " 1.729132811521367,\n",
       " 1.6325385487903077e-11,\n",
       " 81.30000000000001)"
      ]
     },
     "execution_count": 36,
     "metadata": {},
     "output_type": "execute_result"
    },
    {
     "data": {
      "image/png": "[encoded data removed]",
      "text/plain": [
       "<Figure size 432x288 with 1 Axes>"
      ]
     },
     "metadata": {
      "needs_background": "light"
     },
     "output_type": "display_data"
    }
   ],
   "source": [
    "one_sample_ttest(sample2, pop_mean, alpha)"
   ]
  },
  {
   "cell_type": "markdown",
   "metadata": {},
   "source": [
    "## Summary\n",
    "\n",
    "In this lab, you saw a quick introduction to hypothesis testing using frequentist methods with t-values and p-values. You saw how a one sample t-test can be applied to contexts where the population mean is unknown and you have a limited amount of sample data. You looked at all the stages required for such hypothesis testing with a description of steps and also, how to perform these functions in Python. The lesson also briefly explains the comparison of using p-value for statistical significance vs. effect sizes. "
   ]
  }
 ],
 "metadata": {
  "kernelspec": {
   "display_name": "Python 3",
   "language": "python",
   "name": "python3"
  },
  "language_info": {
   "codemirror_mode": {
    "name": "ipython",
    "version": 3
   },
   "file_extension": ".py",
   "mimetype": "text/x-python",
   "name": "python",
   "nbconvert_exporter": "python",
   "pygments_lexer": "ipython3",
   "version": "3.6.9"
  },
  "toc": {
   "base_numbering": 1,
   "nav_menu": {},
   "number_sections": true,
   "sideBar": true,
   "skip_h1_title": false,
   "title_cell": "Table of Contents",
   "title_sidebar": "Contents",
   "toc_cell": false,
   "toc_position": {},
   "toc_section_display": true,
   "toc_window_display": false
  }
 },
 "nbformat": 4,
 "nbformat_minor": 2
}
